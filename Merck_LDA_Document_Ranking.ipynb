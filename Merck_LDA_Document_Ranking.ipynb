{
  "nbformat": 4,
  "nbformat_minor": 0,
  "metadata": {
    "colab": {
      "provenance": [],
      "include_colab_link": true
    },
    "kernelspec": {
      "name": "python3",
      "display_name": "Python 3"
    },
    "language_info": {
      "name": "python"
    }
  },
  "cells": [
    {
      "cell_type": "markdown",
      "metadata": {
        "id": "view-in-github",
        "colab_type": "text"
      },
      "source": [
        "<a href=\"https://colab.research.google.com/github/pyaguega/LDA-document-ranking/blob/main/Merck_LDA_Document_Ranking.ipynb\" target=\"_parent\"><img src=\"https://colab.research.google.com/assets/colab-badge.svg\" alt=\"Open In Colab\"/></a>"
      ]
    },
    {
      "cell_type": "code",
      "execution_count": null,
      "metadata": {
        "id": "NhZzzxcfUSOw",
        "colab": {
          "base_uri": "https://localhost:8080/"
        },
        "outputId": "079b9593-ed6a-4139-9048-1aad26e3a7d0"
      },
      "outputs": [
        {
          "output_type": "stream",
          "name": "stdout",
          "text": [
            "[array([['experimental', 'chromatography', 'significant', 'used',\n",
            "        'response', 'design', 'number', 'validation', 'powerful',\n",
            "        'studies', 'method', 'experiments', 'doe', 'factors', 'designs']],\n",
            "      dtype=object)]\n"
          ]
        }
      ],
      "source": [
        "from sklearn.feature_extraction.text import TfidfVectorizer\n",
        "import numpy as np\n",
        "\n",
        "def extract_keywords(text, n_keywords=15):\n",
        "    # Assuming text is a list of sentences/passages\n",
        "    vectorizer = TfidfVectorizer(stop_words='english', max_features=10000)\n",
        "    tfidf_matrix = vectorizer.fit_transform(text)\n",
        "\n",
        "    # Get the words in the vocabulary\n",
        "    feature_names = vectorizer.get_feature_names_out()\n",
        "\n",
        "    # Sum tf-idf weights for each term through all documents\n",
        "    dense = tfidf_matrix.todense()\n",
        "    dense_sum = np.sum(dense, axis=0)\n",
        "\n",
        "    # Sort words based on sum of tf-idf weights\n",
        "    sorted_items = dense_sum.argsort()\n",
        "\n",
        "    # Get the top n_keywords\n",
        "    keywords = [feature_names[i] for i in sorted_items[0, -n_keywords:]]\n",
        "\n",
        "    return keywords\n",
        "\n",
        "# Example usage\n",
        "text = [\"\"\"The ability of a chromatographic method to successful separate, identify and quantitate species\n",
        "is determined by many factors, many of which are in the control of the experimenter. When attempting to discover\n",
        "the important factors and then optimise a response by tuning these factors, experimental design (design of experiments, DoE)\n",
        "gives a powerful suite of statistical methodology. Advantages include modelling by empirical functions, not requiring detailed\n",
        "knowledge of the underlying physico-chemical properties of the system, a defined number of experiments to be performed, and\n",
        "available software to accomplish the task. Two uses of DoE in chromatography are for showing lack of significant effects in\n",
        "robustness studies for method validation, and for identifying significant factors and then optimising a response with respect\n",
        "to them in method development. Plackett–Burman designs are widely used in validation studies, and fractional factorial designs\n",
        "and their extensions such as central composite designs are the most popular optimisers. Box–Behnken and Doehlert designs are\n",
        "becoming more used as efficient alternatives. If it is not possible to practically realise values of the factors required by\n",
        "experimental designs, or if there is a constraint on the total number of experiments that can be done, then D-optimal designs\n",
        "can be very powerful. Examples of the use of DoE in chromatography are reviewed. Recommendations are given on how to report DoE\n",
        "studies in the literature.\"\"\"]\n",
        "print(extract_keywords(text))"
      ]
    },
    {
      "cell_type": "code",
      "source": [
        "# LDA CODE BELOW"
      ],
      "metadata": {
        "id": "thmMnSO5czg5"
      },
      "execution_count": null,
      "outputs": []
    },
    {
      "cell_type": "code",
      "source": [
        "# [(0,\n",
        "#   '0.083*\"chromatography\" + 0.029*\"liquid\" + 0.023*\"used\" + 0.021*\"separation\" '\n",
        "#   '+ 0.019*\"phase\" + 0.017*\"substances\" + 0.017*\"analysis\" + 0.017*\"form\" + '\n",
        "#   '0.016*\"ion\" + 0.016*\"thermally\"'),\n",
        "#  (1,\n",
        "#   '0.044*\"chromatography\" + 0.022*\"liquid\" + 0.022*\"phase\" + '\n",
        "#   '0.022*\"separation\" + 0.019*\"used\" + 0.016*\"ion\" + 0.016*\"technique\" + '\n",
        "#   '0.016*\"form\" + 0.016*\"analysis\" + 0.015*\"organic\"'),\n",
        "#  (2,\n",
        "#   '0.044*\"chromatography\" + 0.024*\"liquid\" + 0.019*\"used\" + 0.019*\"phase\" + '\n",
        "#   '0.018*\"separation\" + 0.017*\"thermally\" + 0.016*\"technique\" + '\n",
        "#   '0.016*\"organic\" + 0.016*\"mobile\" + 0.015*\"ion\"'),\n",
        "#  (3,\n",
        "#   '0.066*\"chromatography\" + 0.028*\"liquid\" + 0.024*\"phase\" + '\n",
        "#   '0.024*\"separation\" + 0.022*\"used\" + 0.018*\"mobile\" + 0.018*\"gas\" + '\n",
        "#   '0.018*\"organic\" + 0.017*\"materials\" + 0.016*\"thermally\"')]\n",
        "\n",
        "\n",
        "# Topic: 0\n",
        "# Words: chromatography|liquid|used|separation|phase|substances|analysis|form|ion|thermally|technique|materials|gas|organic|mobile|phases|particularly|various|increasing|proteins|species|affinities|reference|reagent|two|stationary|ions|allows|stable|simple\n",
        "# Topic: 1\n",
        "# Words: chromatography|liquid|phase|separation|used|ion|technique|form|analysis|organic|gas|mobile|materials|thermally|substances|exchange|chemicals|complex|cations|chemical|useful|thin|number|purity|analytical|branches|simple|scope|also|principles\n",
        "# Topic: 2\n",
        "# Words: chromatography|liquid|used|phase|separation|thermally|technique|organic|mobile|ion|substances|gas|materials|analysis|form|branches|compounds|volatile|main|assay|identification|analytical|determination|number|whether|allows|structure|mixture|useful|various\n",
        "# Topic: 3\n",
        "# Words: chromatography|liquid|phase|separation|used|mobile|gas|organic|materials|thermally|substances|form|ion|technique|analysis|molecular|exchange|principally|compounds|diverse|scope|divided|metal|individual|mixture|differences|ranging|determined|assay|volatile"
      ],
      "metadata": {
        "id": "Khn4Dt5cWnR1"
      },
      "execution_count": null,
      "outputs": []
    },
    {
      "cell_type": "code",
      "source": [
        "pip install stop-words"
      ],
      "metadata": {
        "colab": {
          "base_uri": "https://localhost:8080/"
        },
        "id": "QyhgbopkZk1K",
        "outputId": "995478ee-0c31-4e55-ffba-f3dc22887e7a"
      },
      "execution_count": null,
      "outputs": [
        {
          "output_type": "stream",
          "name": "stdout",
          "text": [
            "Collecting stop-words\n",
            "  Downloading stop-words-2018.7.23.tar.gz (31 kB)\n",
            "  Preparing metadata (setup.py) ... \u001b[?25l\u001b[?25hdone\n",
            "Building wheels for collected packages: stop-words\n",
            "  Building wheel for stop-words (setup.py) ... \u001b[?25l\u001b[?25hdone\n",
            "  Created wheel for stop-words: filename=stop_words-2018.7.23-py3-none-any.whl size=32896 sha256=c7e0439e825fdc69dd42e61e4448a77c0d61edaadb08be7a9cca4fdf1ce99055\n",
            "  Stored in directory: /root/.cache/pip/wheels/d0/1a/23/f12552a50cb09bcc1694a5ebb6c2cd5f2a0311de2b8c3d9a89\n",
            "Successfully built stop-words\n",
            "Installing collected packages: stop-words\n",
            "Successfully installed stop-words-2018.7.23\n"
          ]
        }
      ]
    },
    {
      "cell_type": "code",
      "source": [
        "import pandas as pd\n",
        "import os\n",
        "import gensim\n",
        "from stop_words import get_stop_words\n",
        "\n",
        "from gensim.utils import simple_preprocess\n",
        "import nltk\n",
        "nltk.download('stopwords')\n",
        "from nltk.corpus import stopwords\n",
        "\n",
        "from nltk.tokenize import RegexpTokenizer\n",
        "from nltk.stem.porter import PorterStemmer\n",
        "from gensim import corpora, models\n",
        "\n"
      ],
      "metadata": {
        "colab": {
          "base_uri": "https://localhost:8080/"
        },
        "id": "bv8JyX90ZsAT",
        "outputId": "66e8ccb4-bb11-43bd-bc40-3fdc47189da8"
      },
      "execution_count": null,
      "outputs": [
        {
          "output_type": "stream",
          "name": "stderr",
          "text": [
            "[nltk_data] Downloading package stopwords to /root/nltk_data...\n",
            "[nltk_data]   Unzipping corpora/stopwords.zip.\n"
          ]
        }
      ]
    },
    {
      "cell_type": "code",
      "source": [
        "abstract = \"Chromatography is an analytical technique used in the quantitative determination of the purity of most organic and an increasing number of inorganic reagent chemicals and standard-grade reference materials. The broad scope of chromatography allows it to be used in the separation, identification, and assay of diverse chemical species, ranging from simple metal ions to compounds of complex molecular structure, such as proteins. In chromatography, the separation of individual components in a mixture is achieved when a mobile phase is passed over a stationary phase. Differences in affinities of various substances for these phases result in their separation. Chromatography can be divided into two main branches, depending on whether the mobile phase is a gas or a liquid. Gas chromatography is principally used for analysis of volatile, thermally stable materials. Liquid chromatography is particularly useful for analysis of nonvolatile or thermally unstable organic substances. Ion chromatography, a technique in which anions and cations can be determined by using the principles of ion exchange, is a form of liquid chromatography. Thin-layer chromatography, often called planar chromatography, is also a form of liquid chromatography.\"\n",
        "# abstract as string (for demo)\n",
        "\n",
        "# \"Chromatography is an analytical technique used in\n",
        "# the quantitative determination of the purity of most organic and an\n",
        "# increasing number of inorganic reagent chemicals and standard-grade\n",
        "# reference materials. The broad scope of chromatography allows it to\n",
        "# be used in the separation, identification, and assay of diverse\n",
        "# chemical species, ranging from simple metal ions to compounds of\n",
        "# complex molecular structure, such as proteins. In chromatography,\n",
        "# the separation of individual components in a mixture is achieved\n",
        "# when a mobile phase is passed over a stationary phase. Differences\n",
        "# in affinities of various substances for these phases result in their\n",
        "# separation. Chromatography can be divided into two main branches,\n",
        "# depending on whether the mobile phase is a gas or a liquid.\n",
        "# Gas chromatography is principally used for analysis of volatile,\n",
        "# thermally stable materials. Liquid chromatography is particularly\n",
        "# useful for analysis of nonvolatile or thermally unstable organic\n",
        "# substances. Ion chromatography, a technique in which anions and\n",
        "# cations can be determined by using the principles of ion exchange,\n",
        "# is a form of liquid chromatography. Thin-layer chromatography,\n",
        "# often called planar chromatography, is also a form of liquid\n",
        "# chromatography.\"\n",
        "\n",
        "\n",
        "print(abstract)"
      ],
      "metadata": {
        "colab": {
          "base_uri": "https://localhost:8080/"
        },
        "id": "Dxjo3FrYZvhy",
        "outputId": "9574064d-511f-4035-b72e-3b05b312a1c3"
      },
      "execution_count": null,
      "outputs": [
        {
          "output_type": "stream",
          "name": "stdout",
          "text": [
            "Chromatography is an analytical technique used in the quantitative determination of the purity of most organic and an increasing number of inorganic reagent chemicals and standard-grade reference materials. The broad scope of chromatography allows it to be used in the separation, identification, and assay of diverse chemical species, ranging from simple metal ions to compounds of complex molecular structure, such as proteins. In chromatography, the separation of individual components in a mixture is achieved when a mobile phase is passed over a stationary phase. Differences in affinities of various substances for these phases result in their separation. Chromatography can be divided into two main branches, depending on whether the mobile phase is a gas or a liquid. Gas chromatography is principally used for analysis of volatile, thermally stable materials. Liquid chromatography is particularly useful for analysis of nonvolatile or thermally unstable organic substances. Ion chromatography, a technique in which anions and cations can be determined by using the principles of ion exchange, is a form of liquid chromatography. Thin-layer chromatography, often called planar chromatography, is also a form of liquid chromatography.\n"
          ]
        }
      ]
    },
    {
      "cell_type": "code",
      "source": [
        "from nltk.tokenize import RegexpTokenizer\n",
        "tokenizer = RegexpTokenizer(r'\\w+')\n",
        "\n",
        "en_stop = get_stop_words('en')\n",
        "\n",
        "p_stemmer = PorterStemmer()\n",
        "\n",
        "raw = abstract.lower()\n",
        "tokens = tokenizer.tokenize(raw)\n",
        "\n",
        "stopped_tokens = [i for i in tokens if not i in en_stop]\n",
        "\n",
        "\n",
        "print(stopped_tokens)\n",
        "# split the words into individual elements"
      ],
      "metadata": {
        "colab": {
          "base_uri": "https://localhost:8080/"
        },
        "id": "XJyurPPBZx9x",
        "outputId": "4fa40303-ac7f-41ea-f982-aaa5409373b5"
      },
      "execution_count": null,
      "outputs": [
        {
          "output_type": "stream",
          "name": "stdout",
          "text": [
            "['chromatography', 'analytical', 'technique', 'used', 'quantitative', 'determination', 'purity', 'organic', 'increasing', 'number', 'inorganic', 'reagent', 'chemicals', 'standard', 'grade', 'reference', 'materials', 'broad', 'scope', 'chromatography', 'allows', 'used', 'separation', 'identification', 'assay', 'diverse', 'chemical', 'species', 'ranging', 'simple', 'metal', 'ions', 'compounds', 'complex', 'molecular', 'structure', 'proteins', 'chromatography', 'separation', 'individual', 'components', 'mixture', 'achieved', 'mobile', 'phase', 'passed', 'stationary', 'phase', 'differences', 'affinities', 'various', 'substances', 'phases', 'result', 'separation', 'chromatography', 'can', 'divided', 'two', 'main', 'branches', 'depending', 'whether', 'mobile', 'phase', 'gas', 'liquid', 'gas', 'chromatography', 'principally', 'used', 'analysis', 'volatile', 'thermally', 'stable', 'materials', 'liquid', 'chromatography', 'particularly', 'useful', 'analysis', 'nonvolatile', 'thermally', 'unstable', 'organic', 'substances', 'ion', 'chromatography', 'technique', 'anions', 'cations', 'can', 'determined', 'using', 'principles', 'ion', 'exchange', 'form', 'liquid', 'chromatography', 'thin', 'layer', 'chromatography', 'often', 'called', 'planar', 'chromatography', 'also', 'form', 'liquid', 'chromatography']\n"
          ]
        }
      ]
    },
    {
      "cell_type": "code",
      "source": [
        "stop_words = stopwords.words('english')\n",
        "\n",
        "texts = []\n",
        "\n",
        "# clean and tokenize document string\n",
        "raw = abstract.lower()\n",
        "tokens = tokenizer.tokenize(raw)\n",
        "\n",
        "# remove stop words from tokens\n",
        "stopped_tokens = [i for i in tokens if not i in stop_words]\n",
        "\n",
        "# stem tokens\n",
        "stemmed_tokens = [p_stemmer.stem(i) for i in stopped_tokens]\n",
        "\n",
        "# add tokens to list\n",
        "#texts.append(stemmed_tokens)\n",
        "texts.append(stopped_tokens)\n",
        "\n",
        "#print(stopped_tokens)\n",
        "#print(stemmed_tokens)\n",
        "print(texts)\n"
      ],
      "metadata": {
        "colab": {
          "base_uri": "https://localhost:8080/"
        },
        "id": "lMrNVXcjZ0Mp",
        "outputId": "ae425987-f957-4166-be3e-985238bc795d"
      },
      "execution_count": null,
      "outputs": [
        {
          "output_type": "stream",
          "name": "stdout",
          "text": [
            "[['chromatography', 'analytical', 'technique', 'used', 'quantitative', 'determination', 'purity', 'organic', 'increasing', 'number', 'inorganic', 'reagent', 'chemicals', 'standard', 'grade', 'reference', 'materials', 'broad', 'scope', 'chromatography', 'allows', 'used', 'separation', 'identification', 'assay', 'diverse', 'chemical', 'species', 'ranging', 'simple', 'metal', 'ions', 'compounds', 'complex', 'molecular', 'structure', 'proteins', 'chromatography', 'separation', 'individual', 'components', 'mixture', 'achieved', 'mobile', 'phase', 'passed', 'stationary', 'phase', 'differences', 'affinities', 'various', 'substances', 'phases', 'result', 'separation', 'chromatography', 'divided', 'two', 'main', 'branches', 'depending', 'whether', 'mobile', 'phase', 'gas', 'liquid', 'gas', 'chromatography', 'principally', 'used', 'analysis', 'volatile', 'thermally', 'stable', 'materials', 'liquid', 'chromatography', 'particularly', 'useful', 'analysis', 'nonvolatile', 'thermally', 'unstable', 'organic', 'substances', 'ion', 'chromatography', 'technique', 'anions', 'cations', 'determined', 'using', 'principles', 'ion', 'exchange', 'form', 'liquid', 'chromatography', 'thin', 'layer', 'chromatography', 'often', 'called', 'planar', 'chromatography', 'also', 'form', 'liquid', 'chromatography']]\n"
          ]
        }
      ]
    },
    {
      "cell_type": "code",
      "source": [
        "# turn our tokenized documents into a id <-> term dictionary\n",
        "dictionary = corpora.Dictionary(texts)\n",
        "\n",
        "# convert tokenized documents into a document-term matrix\n",
        "corpus = [dictionary.doc2bow(text) for text in texts]\n",
        "\n",
        "print(corpus)\n",
        "\n",
        "# corpus has id number (0) for a word and\n",
        "# the frequency (1) the word shows up in the document"
      ],
      "metadata": {
        "colab": {
          "base_uri": "https://localhost:8080/"
        },
        "id": "L22OOO-mZ9sP",
        "outputId": "16b9645f-38b2-45f9-e38c-f546b8eb5212"
      },
      "execution_count": null,
      "outputs": [
        {
          "output_type": "stream",
          "name": "stdout",
          "text": [
            "[[(0, 1), (1, 1), (2, 1), (3, 1), (4, 2), (5, 1), (6, 1), (7, 1), (8, 1), (9, 1), (10, 1), (11, 1), (12, 1), (13, 1), (14, 11), (15, 1), (16, 1), (17, 1), (18, 1), (19, 1), (20, 1), (21, 1), (22, 1), (23, 1), (24, 1), (25, 2), (26, 2), (27, 1), (28, 1), (29, 1), (30, 1), (31, 1), (32, 2), (33, 1), (34, 1), (35, 4), (36, 1), (37, 2), (38, 1), (39, 1), (40, 2), (41, 1), (42, 1), (43, 1), (44, 1), (45, 2), (46, 1), (47, 1), (48, 3), (49, 1), (50, 1), (51, 1), (52, 1), (53, 1), (54, 1), (55, 1), (56, 1), (57, 1), (58, 1), (59, 1), (60, 1), (61, 3), (62, 1), (63, 1), (64, 1), (65, 1), (66, 1), (67, 1), (68, 2), (69, 2), (70, 2), (71, 1), (72, 1), (73, 1), (74, 3), (75, 1), (76, 1), (77, 1), (78, 1), (79, 1)]]\n"
          ]
        }
      ]
    },
    {
      "cell_type": "code",
      "source": [
        "from pprint import pprint\n",
        "# number of topics: 2\n",
        "\n",
        "ldamodel = gensim.models.LdaMulticore(corpus=corpus,\n",
        "                                      id2word=dictionary,\n",
        "                                      num_topics=2,\n",
        "                                      passes=10)\n",
        "# num_topics = number of topics to generate\n",
        "#id2word = dictionary to map IDS to strings\n",
        "# passes = number of laps the model will take through corpus (more accurate the more passes)\n",
        "pprint(ldamodel.print_topics())\n",
        "\n",
        "# topic 1 - separation (of chemicals)\n",
        "# topic 2 - types (of chromatography)"
      ],
      "metadata": {
        "colab": {
          "base_uri": "https://localhost:8080/"
        },
        "id": "gYUkp27qZ_Zd",
        "outputId": "59e257d2-0840-497a-96a4-1fc2c9450043"
      },
      "execution_count": null,
      "outputs": [
        {
          "output_type": "stream",
          "name": "stdout",
          "text": [
            "[(0,\n",
            "  '0.073*\"chromatography\" + 0.030*\"liquid\" + 0.023*\"used\" + 0.023*\"phase\" + '\n",
            "  '0.022*\"separation\" + 0.017*\"gas\" + 0.017*\"organic\" + 0.017*\"materials\" + '\n",
            "  '0.017*\"ion\" + 0.016*\"substances\"'),\n",
            " (1,\n",
            "  '0.045*\"chromatography\" + 0.020*\"liquid\" + 0.019*\"separation\" + '\n",
            "  '0.018*\"phase\" + 0.018*\"used\" + 0.015*\"form\" + 0.015*\"technique\" + '\n",
            "  '0.015*\"analysis\" + 0.015*\"thermally\" + 0.015*\"mobile\"')]\n"
          ]
        }
      ]
    },
    {
      "cell_type": "code",
      "source": [
        "import re\n",
        "import numpy as np\n",
        "import pandas as  pd\n",
        "from pprint import pprint# Gensim\n",
        "import gensim\n",
        "import gensim.corpora as corpora\n",
        "from gensim.utils import simple_preprocess\n",
        "from gensim.models import CoherenceModel# spaCy for preprocessing\n",
        "import spacy# Plotting tools\n",
        "import matplotlib.pyplot as plt\n",
        "%matplotlib inline\n",
        "\n",
        "# Compute Perplexity\n",
        "print('\\nPerplexity: ', ldamodel.log_perplexity(corpus))\n",
        "# a measure of how good the model is. lower the better.\n",
        "\n",
        "# Compute Coherence Score\n",
        "coherence_model_lda = CoherenceModel(model=ldamodel, texts=texts, dictionary=dictionary, coherence='c_v')\n",
        "coherence_lda = coherence_model_lda.get_coherence()\n",
        "print('\\nCoherence Score: ', coherence_lda)\n",
        "\n",
        "# Lower the perplexity better the model.\n",
        "# Higher the topic coherence, the topic is more human interpretable."
      ],
      "metadata": {
        "colab": {
          "base_uri": "https://localhost:8080/"
        },
        "id": "e6Xs40TtaCBP",
        "outputId": "ff0654f1-bf15-4680-97ae-c37b753aa9cf"
      },
      "execution_count": null,
      "outputs": [
        {
          "output_type": "stream",
          "name": "stdout",
          "text": [
            "\n",
            "Perplexity:  -4.826256224868494\n",
            "\n",
            "Coherence Score:  0.9999999999999998\n"
          ]
        }
      ]
    },
    {
      "cell_type": "code",
      "source": [
        "\"\"\"\n",
        "print out the topics, the keyword for each topic, and frequency\n",
        "of keyword in the topic\n",
        "\"\"\"\n",
        "\n",
        "from pprint import pprint\n",
        "\n",
        "# printing option 1\n",
        "ldamodel = gensim.models.LdaMulticore(corpus=corpus,\n",
        "                                               id2word=dictionary,\n",
        "                                               num_topics=4)\n",
        "pprint(ldamodel.print_topics())\n",
        "\n",
        "print(\"\\n\")\n",
        "\n",
        "# printing option 2\n",
        "for idx, topic in ldamodel.show_topics(formatted=False, num_words= 30):\n",
        "    print('Topic: {} \\nWords: {}'.format(idx, '|'.join([w[0] for w in topic])))"
      ],
      "metadata": {
        "colab": {
          "base_uri": "https://localhost:8080/"
        },
        "id": "tC6UHPw0aqnf",
        "outputId": "34c79554-3e4a-4202-c854-9f9389ddcd1e"
      },
      "execution_count": null,
      "outputs": [
        {
          "output_type": "stream",
          "name": "stderr",
          "text": [
            "WARNING:gensim.models.ldamulticore:too few updates, training might not converge; consider increasing the number of passes or iterations to improve accuracy\n"
          ]
        },
        {
          "output_type": "stream",
          "name": "stdout",
          "text": [
            "[(0,\n",
            "  '0.075*\"chromatography\" + 0.033*\"liquid\" + 0.025*\"used\" + 0.021*\"phase\" + '\n",
            "  '0.019*\"separation\" + 0.018*\"ion\" + 0.018*\"thermally\" + 0.017*\"analysis\" + '\n",
            "  '0.017*\"technique\" + 0.017*\"form\"'),\n",
            " (1,\n",
            "  '0.031*\"chromatography\" + 0.017*\"liquid\" + 0.016*\"used\" + 0.016*\"separation\" '\n",
            "  '+ 0.016*\"phase\" + 0.015*\"gas\" + 0.015*\"thermally\" + 0.014*\"substances\" + '\n",
            "  '0.014*\"organic\" + 0.014*\"mobile\"'),\n",
            " (2,\n",
            "  '0.070*\"chromatography\" + 0.025*\"liquid\" + 0.024*\"phase\" + '\n",
            "  '0.024*\"separation\" + 0.022*\"used\" + 0.018*\"materials\" + 0.017*\"form\" + '\n",
            "  '0.017*\"gas\" + 0.017*\"substances\" + 0.016*\"organic\"'),\n",
            " (3,\n",
            "  '0.059*\"chromatography\" + 0.025*\"liquid\" + 0.024*\"separation\" + '\n",
            "  '0.020*\"phase\" + 0.018*\"used\" + 0.018*\"organic\" + 0.017*\"mobile\" + '\n",
            "  '0.017*\"ion\" + 0.016*\"substances\" + 0.015*\"materials\"')]\n",
            "\n",
            "\n",
            "Topic: 0 \n",
            "Words: chromatography|liquid|used|phase|separation|ion|thermally|analysis|technique|form|gas|mobile|substances|materials|organic|standard|mixture|determination|volatile|purity|reference|particularly|quantitative|layer|ions|broad|stationary|unstable|affinities|planar\n",
            "Topic: 1 \n",
            "Words: chromatography|liquid|used|separation|phase|gas|thermally|substances|organic|mobile|form|technique|materials|analysis|ion|analytical|chemicals|complex|two|called|cations|using|principles|individual|various|mixture|identification|achieved|scope|determined\n",
            "Topic: 2 \n",
            "Words: chromatography|liquid|phase|separation|used|materials|form|gas|substances|organic|technique|analysis|mobile|thermally|ion|various|allows|achieved|divided|passed|often|molecular|anions|stable|diverse|planar|principles|determined|thin|differences\n",
            "Topic: 3 \n",
            "Words: chromatography|liquid|separation|phase|used|organic|mobile|ion|substances|materials|technique|analysis|thermally|form|gas|simple|purity|result|components|proteins|chemicals|metal|assay|divided|also|number|reagent|inorganic|structure|nonvolatile\n"
          ]
        }
      ]
    },
    {
      "cell_type": "code",
      "source": [],
      "metadata": {
        "id": "Rh9LxfhZkhTh"
      },
      "execution_count": null,
      "outputs": []
    },
    {
      "cell_type": "code",
      "source": [],
      "metadata": {
        "id": "py4qcPuuklwh"
      },
      "execution_count": null,
      "outputs": []
    }
  ]
}